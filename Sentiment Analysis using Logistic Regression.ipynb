{
 "cells": [
  {
   "cell_type": "code",
   "execution_count": 1,
   "metadata": {},
   "outputs": [],
   "source": [
    "import os\n",
    "import re\n",
    "import string\n",
    "import numpy as np\n",
    "import pandas as pd\n",
    "from nltk.corpus import stopwords\n",
    "from nltk.stem import PorterStemmer\n",
    "from nltk.tokenize import TweetTokenizer"
   ]
  },
  {
   "cell_type": "code",
   "execution_count": 2,
   "metadata": {},
   "outputs": [
    {
     "name": "stdout",
     "output_type": "stream",
     "text": [
      "No of positive samples: 12500\n",
      "No of negative samples: 12500\n"
     ]
    }
   ],
   "source": [
    "pos_dst = './Data/train/pos/'\n",
    "neg_dst = './Data/train/neg/'\n",
    "\n",
    "# No of positive samples\n",
    "no_ps = len(os.listdir(pos_dst))\n",
    "\n",
    "# No of negative samples\n",
    "no_ns = len(os.listdir(neg_dst))\n",
    "\n",
    "print(\"No of positive samples:\", no_ps)\n",
    "print(\"No of negative samples:\", no_ns)"
   ]
  },
  {
   "cell_type": "code",
   "execution_count": 3,
   "metadata": {},
   "outputs": [],
   "source": [
    "train_dict = {\"pos\":[],\"neg\":[]}\n",
    "\n",
    "list_pos = os.listdir(pos_dst)\n",
    "list_neg = os.listdir(neg_dst)\n",
    "i=0\n",
    "for pos,neg in zip(list_pos,list_neg):\n",
    "    \n",
    "    pos_f = open(os.path.join(pos_dst,pos),\"r\")\n",
    "    neg_f = open(os.path.join(neg_dst,neg),\"r\")\n",
    "    \n",
    "    # Read the text\n",
    "    pos_txt = pos_f.read()\n",
    "    neg_txt = neg_f.read()\n",
    "    \n",
    "    pos_f.close()\n",
    "    neg_f.close()\n",
    "    \n",
    "    train_dict[\"pos\"].append(pos_txt)\n",
    "    train_dict[\"neg\"].append(neg_txt)"
   ]
  },
  {
   "cell_type": "markdown",
   "metadata": {},
   "source": [
    "## Function to Process Text"
   ]
  },
  {
   "cell_type": "code",
   "execution_count": 9,
   "metadata": {},
   "outputs": [],
   "source": [
    "def process(txt):\n",
    "    \n",
    "    stemmer = PorterStemmer()\n",
    "    stopwords_english = stopwords.words('english')\n",
    "    \n",
    "    # Removing hyperlinks\n",
    "    txt = re.sub(r'https?:\\/\\/.*[\\r\\n]*', '', txt)\n",
    "    \n",
    "    # Only removing the hash # sign from the word\n",
    "    txt = re.sub(r'#','', txt)\n",
    "    \n",
    "    # Removing the square brackets\n",
    "    txt = re.sub('\\[[^]]*\\]','', txt)\n",
    "    \n",
    "    # Removing special characters and numbers\n",
    "    pattern = r'[^a-zA-z\\s]'\n",
    "    txt = re.sub(pattern, '', txt)\n",
    "    \n",
    "    tokenizer = TweetTokenizer(preserve_case=False, strip_handles=True,reduce_len=True)\n",
    "    txt_tokens = tokenizer.tokenize(txt)\n",
    "    \n",
    "    clean_txt = []\n",
    "    \n",
    "    for word in txt_tokens:\n",
    "        if (word not in stopwords_english and  # remove stopwords\n",
    "                word not in string.punctuation):  # remove punctuation\n",
    "            \n",
    "            stem_word = stemmer.stem(word)  # stemming word\n",
    "            clean_txt.append(stem_word)\n",
    "    \n",
    "    \n",
    "    \n",
    "    return clean_txt"
   ]
  },
  {
   "cell_type": "code",
   "execution_count": 53,
   "metadata": {
    "scrolled": false
   },
   "outputs": [
    {
     "name": "stdout",
     "output_type": "stream",
     "text": [
      "Positive sample:\n",
      "\n",
      "You know the story - a group of plucky no-hopers enter a competition they seemingly have no chance of winning - it's a tale that has been done to death by Hollywood (Bring It On, The Karate Kid, Escape to Victory, Best of the Best etc). Now Korea gives it a go with a Taekwondo team struggling for glory  and guess what  the result is predictable but ultimately satisfying.<br /><br />The fact that this movie doesn't fall flat on its face is down to the talented young cast who really make you care about the characters, and this in turn keeps you watching to the end.<br /><br />Fans of your typical martial arts movie may be disappointed  Taekwondo does not deliver the usual flurry of moves and acrobatics seen in most Kung Fu films; the action is limited to (albeit impressive) kicking and the occasional punch. This doesn't matter though, since it is the interaction of the characters and their fight to make something of themselves which makes this movie a success. \n",
      "\n",
      "Text After processing: \n",
      "\n",
      "['know', 'stori', 'group', 'plucki', 'nohop', 'enter', 'competit', 'seemingli', 'chanc', 'win', 'tale', 'done', 'death', 'hollywood', 'bring', 'karat', 'kid', 'escap', 'victori', 'best', 'best', 'etc', 'korea', 'give', 'go', 'taekwondo', 'team', 'struggl', 'glori', 'guess', 'result', 'predict', 'ultim', 'satisfyingbr', 'br', 'fact', 'movi', 'doesnt', 'fall', 'flat', 'face', 'talent', 'young', 'cast', 'realli', 'make', 'care', 'charact', 'turn', 'keep', 'watch', 'endbr', 'br', 'fan', 'typic', 'martial', 'art', 'movi', 'may', 'disappoint', 'taekwondo', 'deliv', 'usual', 'flurri', 'move', 'acrobat', 'seen', 'kung', 'fu', 'film', 'action', 'limit', 'albeit', 'impress', 'kick', 'occasion', 'punch', 'doesnt', 'matter', 'though', 'sinc', 'interact', 'charact', 'fight', 'make', 'someth', 'make', 'movi', 'success'] \n",
      "\n",
      "Negative sample:\n",
      "\n",
      "This movie is flawed on many fronts. Like many before it, it portrays more of the mythology of the Alamo than the history. The production is poor, overall giving the impression of a welfare project for lots of actors who might have otherwise had to work on Hollywood Squares. This to me was the greatest flaw - I know the ages and general personalities of the real Alamo protagonists and the geriatric ensemble of TV actors chosen to portray them never let any hint of believability intrude.<br /><br />As a native Texan, I grew up with the mythology. I later learned more about the history. I can accept a decent production from either perspective (although I prefer more historical accuracy), but this never gave me a chance to enjoy it. Even John Wayne's or Fess Parker's versions had more life than this stolid mess, while being only slightly less accurate.<br /><br />Very disappointing - avoid it. \n",
      "\n",
      "Text After processing: \n",
      "\n",
      "['know', 'stori', 'group', 'plucki', 'nohop', 'enter', 'competit', 'seemingli', 'chanc', 'win', 'tale', 'done', 'death', 'hollywood', 'bring', 'karat', 'kid', 'escap', 'victori', 'best', 'best', 'etc', 'korea', 'give', 'go', 'taekwondo', 'team', 'struggl', 'glori', 'guess', 'result', 'predict', 'ultim', 'satisfyingbr', 'br', 'fact', 'movi', 'doesnt', 'fall', 'flat', 'face', 'talent', 'young', 'cast', 'realli', 'make', 'care', 'charact', 'turn', 'keep', 'watch', 'endbr', 'br', 'fan', 'typic', 'martial', 'art', 'movi', 'may', 'disappoint', 'taekwondo', 'deliv', 'usual', 'flurri', 'move', 'acrobat', 'seen', 'kung', 'fu', 'film', 'action', 'limit', 'albeit', 'impress', 'kick', 'occasion', 'punch', 'doesnt', 'matter', 'though', 'sinc', 'interact', 'charact', 'fight', 'make', 'someth', 'make', 'movi', 'success'] \n",
      "\n"
     ]
    }
   ],
   "source": [
    "# Sample Positive Review\n",
    "print(\"Positive sample:\\n\")\n",
    "print(train[0],\"\\n\")\n",
    "\n",
    "# Processed positive sample \n",
    "print(\"Text After processing: \\n\")\n",
    "print(process(train[0]),\"\\n\")\n",
    "\n",
    "# Sample Negative Review\n",
    "print(\"Negative sample:\\n\")\n",
    "print(train[12550],\"\\n\")\n",
    "\n",
    "# Processed Negative sample \n",
    "print(\"Text After processing: \\n\")\n",
    "print(process(train[0]),\"\\n\")"
   ]
  },
  {
   "cell_type": "markdown",
   "metadata": {},
   "source": [
    "##  Function to Build Frequencies"
   ]
  },
  {
   "cell_type": "code",
   "execution_count": 34,
   "metadata": {},
   "outputs": [],
   "source": [
    "def build_freqs(tweets, ys):\n",
    "    \n",
    "    # Convert np array to list since zip needs an iterable.\n",
    "    # The squeeze is necessary or the list ends up with one element.\n",
    "    # Also note that this is just a NOP if ys is already a list.\n",
    "    yslist = np.squeeze(ys).tolist()\n",
    "\n",
    "    # Start with an empty dictionary and populate it by looping over all tweets\n",
    "    # and over all processed words in each tweet.\n",
    "    freqs = {}\n",
    "    for y, tweet in zip(yslist, tweets):\n",
    "        for word in process(tweet):\n",
    "            pair = (word, y)\n",
    "            if pair in freqs:\n",
    "                freqs[pair] += 1\n",
    "            else:\n",
    "                freqs[pair] = 1\n",
    "\n",
    "    return freqs"
   ]
  },
  {
   "cell_type": "code",
   "execution_count": 56,
   "metadata": {},
   "outputs": [
    {
     "name": "stdout",
     "output_type": "stream",
     "text": [
      "No of Training Samples: 25000\n",
      "train_y.shape = (25000, 1)\n"
     ]
    }
   ],
   "source": [
    "# Training Set \n",
    "train_x = train_dict[\"pos\"]+train_dict[\"neg\"]\n",
    "\n",
    "# Training Labels\n",
    "train_y = np.append(np.ones((len(train_dict[\"pos\"]),1)),\n",
    "                    np.zeros((len(train_dict[\"neg\"]), 1)),\n",
    "                    axis=0)\n",
    "\n",
    "\n",
    "\n",
    "# Print the no of samples\n",
    "print(\"No of Training Samples:\",len(train_x))\n",
    "\n",
    "# Print the shape of train_y\n",
    "print(\"train_y.shape = \" + str(train_y.shape))"
   ]
  },
  {
   "cell_type": "code",
   "execution_count": 35,
   "metadata": {},
   "outputs": [],
   "source": [
    "# Create Frequency Dictionary\n",
    "freqs = build_freqs(train_set, train_y)"
   ]
  },
  {
   "cell_type": "code",
   "execution_count": 72,
   "metadata": {
    "scrolled": true
   },
   "outputs": [
    {
     "name": "stdout",
     "output_type": "stream",
     "text": [
      "Word: \"Bad\"\n",
      "No times used in the Positive sense: 1836\n",
      "No times used in the Negative sense: 7120 \n",
      "\n",
      "Word: \"Amazing\"\n",
      "No times used in the Positive sense: 1153\n",
      "No times used in the Negative sense: 364 \n",
      "\n"
     ]
    }
   ],
   "source": [
    "print(\"Word: \\\"Bad\\\"\")\n",
    "print(\"No times used in the Positive sense:\",freqs[('bad',1.0)])\n",
    "print(\"No times used in the Negative sense:\",freqs[('bad',0.0)],\"\\n\")\n",
    "\n",
    "print(\"Word: \\\"Amazing\\\"\")\n",
    "print(\"No times used in the Positive sense:\",freqs[(process(\"Amazing\")[0],1.0)])\n",
    "print(\"No times used in the Negative sense:\",freqs[(process(\"Amazing\")[0],0.0)],\"\\n\")"
   ]
  }
 ],
 "metadata": {
  "kernelspec": {
   "display_name": "Python 3",
   "language": "python",
   "name": "python3"
  },
  "language_info": {
   "codemirror_mode": {
    "name": "ipython",
    "version": 3
   },
   "file_extension": ".py",
   "mimetype": "text/x-python",
   "name": "python",
   "nbconvert_exporter": "python",
   "pygments_lexer": "ipython3",
   "version": "3.7.5"
  }
 },
 "nbformat": 4,
 "nbformat_minor": 4
}
