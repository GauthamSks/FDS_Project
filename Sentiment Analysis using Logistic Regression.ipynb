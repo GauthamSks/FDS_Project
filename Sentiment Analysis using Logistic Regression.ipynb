{
 "cells": [
  {
   "cell_type": "code",
   "execution_count": 32,
   "metadata": {},
   "outputs": [],
   "source": [
    "import os\n",
    "import re\n",
    "import string\n",
    "import numpy as np\n",
    "import pandas as pd\n",
    "from nltk.corpus import stopwords\n",
    "from nltk.stem import PorterStemmer\n",
    "from nltk.tokenize import TweetTokenizer"
   ]
  },
  {
   "cell_type": "code",
   "execution_count": 7,
   "metadata": {},
   "outputs": [
    {
     "name": "stdout",
     "output_type": "stream",
     "text": [
      "No of positive samples: 12500\n",
      "No of negative samples: 12500\n"
     ]
    }
   ],
   "source": [
    "pos_dst = './Data/train/pos/'\n",
    "neg_dst = './Data/train/neg/'\n",
    "\n",
    "# No of positive samples\n",
    "no_ps = len(os.listdir(pos_dst))\n",
    "\n",
    "# No of negative samples\n",
    "no_ns = len(os.listdir(neg_dst))\n",
    "\n",
    "print(\"No of positive samples:\", no_ps)\n",
    "print(\"No of negative samples:\", no_ns)"
   ]
  },
  {
   "cell_type": "code",
   "execution_count": 24,
   "metadata": {},
   "outputs": [],
   "source": [
    "train_dict = {\"pos\":[],\"neg\":[]}\n",
    "\n",
    "list_pos = os.listdir(pos_dst)\n",
    "list_neg = os.listdir(neg_dst)\n",
    "i=0\n",
    "for pos,neg in zip(list_pos,list_neg):\n",
    "    \n",
    "    pos_f = open(os.path.join(pos_dst,pos),\"r\")\n",
    "    neg_f = open(os.path.join(neg_dst,neg),\"r\")\n",
    "    \n",
    "    # Read the text\n",
    "    pos_txt = pos_f.read()\n",
    "    neg_txt = neg_f.read()\n",
    "    \n",
    "    pos_f.close()\n",
    "    neg_f.close()\n",
    "    \n",
    "    train_dict[\"pos\"].append(pos_txt)\n",
    "    train_dict[\"neg\"].append(neg_txt)"
   ]
  },
  {
   "cell_type": "markdown",
   "metadata": {},
   "source": [
    "## Function to Process Text"
   ]
  },
  {
   "cell_type": "code",
   "execution_count": 53,
   "metadata": {},
   "outputs": [],
   "source": [
    "def process(txt):\n",
    "    \n",
    "    stemmer = PorterStemmer()\n",
    "    stopwords_english = stopwords.words('english')\n",
    "    \n",
    "    # Removing hyperlinks\n",
    "    txt = re.sub(r'https?:\\/\\/.*[\\r\\n]*', '', txt)\n",
    "    \n",
    "    # Only removing the hash # sign from the word\n",
    "    txt = re.sub(r'#','', txt)\n",
    "    \n",
    "    # Removing the square brackets\n",
    "    txt = re.sub('\\[[^]]*\\]','', txt)\n",
    "    \n",
    "    # Removing special characters and numbers\n",
    "    pattern = r'[^a-zA-z\\s]'\n",
    "    txt = re.sub(pattern, '', txt)\n",
    "    \n",
    "    return txt.split()"
   ]
  },
  {
   "cell_type": "code",
   "execution_count": 54,
   "metadata": {},
   "outputs": [
    {
     "data": {
      "text/plain": [
       "['This', 'is', 'a', 'test', 'amazing', 'wow']"
      ]
     },
     "execution_count": 54,
     "metadata": {},
     "output_type": "execute_result"
    }
   ],
   "source": [
    "process(\"This is a :) test :-( ! #amazing #wow $$$ 750$ https://www.google.com/\")"
   ]
  }
 ],
 "metadata": {
  "kernelspec": {
   "display_name": "Python 3",
   "language": "python",
   "name": "python3"
  },
  "language_info": {
   "codemirror_mode": {
    "name": "ipython",
    "version": 3
   },
   "file_extension": ".py",
   "mimetype": "text/x-python",
   "name": "python",
   "nbconvert_exporter": "python",
   "pygments_lexer": "ipython3",
   "version": "3.7.5"
  }
 },
 "nbformat": 4,
 "nbformat_minor": 4
}
